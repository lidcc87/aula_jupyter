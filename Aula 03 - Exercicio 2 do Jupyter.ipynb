{
 "cells": [
  {
   "cell_type": "markdown",
   "metadata": {
    "slideshow": {
     "slide_type": "slide"
    }
   },
   "source": [
    "# Análise Exploratória de Dados  \n",
    "\n",
    "\n",
    "John W. Tukey:\n",
    "> It is important to understand what you CAN DO before you learn to measure how WELL you seem to have done it.  \n",
    "\n",
    "A **Análise Exploratória de Dados** consiste em fazer uso das principais técnicas para projetar soluções de problemas por meio de análise de dados mediante dados disponíveis.  \n",
    "\n",
    "![Data_Science_Process](https://static.packt-cdn.com/products/9781788993357/graphics/64aa8c65-564e-44c6-95fb-2b512f9b12c8.png)\n"
   ]
  },
  {
   "cell_type": "markdown",
   "metadata": {
    "slideshow": {
     "slide_type": "slide"
    }
   },
   "source": [
    "## Análise Descritiva de Dados\n",
    "\n",
    "A **Análise Descritiva de Dados** é o princípio de qualquer análise quantitativa de dados que descreve as suas mais essenciais características.\n",
    "\n",
    "Processo da **Análise Descritivas de Dados**:\n",
    "1. Organizar os dados mediante distribuições de frequência;\n",
    "2. Apresentar os dados por meio de técnicas de visualização;\n",
    "3. Calcular medidas de tendência central, variação e associação;"
   ]
  },
  {
   "cell_type": "markdown",
   "metadata": {
    "slideshow": {
     "slide_type": "slide"
    }
   },
   "source": [
    "# Distribuição de Frequência\n",
    "\n",
    "* Conceitos\n",
    "\n",
    "1. Classes\n",
    "2. Limite Inferior e Limite Superior de uma Classe\n",
    "3. Fronteiras de Classes\n",
    "4. Pontos Médios das Classes\n",
    "5. Amplitude de Classes\n",
    "6. Frequência Absoluta de uma Classe\n",
    "7. Frequência Relativa de uma Classe\n",
    "8. Frequência Acumulada de uma Classe"
   ]
  },
  {
   "cell_type": "markdown",
   "metadata": {
    "slideshow": {
     "slide_type": "slide"
    }
   },
   "source": [
    "# Visualização dos Dados\n",
    "\n",
    "1. Histogramas\n",
    "2. Polígonos de Frequência\n",
    "3. Ogivas\n",
    "4. Gráficos de Pareto\n",
    "5. Gráficos de Setores\n",
    "6. Gráficos de Dispersão\n",
    "\n",
    "![Types_of_Graphs](https://i.pinimg.com/originals/d7/9d/2c/d79d2cc790007027232ee3f88ab9c847.png)"
   ]
  },
  {
   "cell_type": "markdown",
   "metadata": {
    "slideshow": {
     "slide_type": "slide"
    }
   },
   "source": [
    "# Referências:\n",
    "1. [Introdução à Mineração de Dados: Conceitos Básicos, Algoritmos e Aplicações por Daniel Gomes Ferrari ](https://www.slideshare.net/lndecastro/2016-introduo-minerao-de-dados-conceitos-bsicos-algoritmos-e-aplicaes)\n",
    "2. [Daniel Gomes Ferrari, L.N. de C.S., 2017. Introdução a mineração de dados, 1st ed. SARAIVA](https://www.amazon.com.br/dp/B076C18GM4/ref=dp-kindle-redirect?_encoding=UTF8&btkr=1)\n",
    "3. [Tukey, J.W., 1977. Exploratory Data Analysis, Edição: 1. ed. Pearson, Reading, Mass](https://www.amazon.com.br/Exploratory-Data-Analysis-John-Tukey/dp/0201076160)"
   ]
  }
 ],
 "metadata": {
  "celltoolbar": "Slideshow",
  "kernelspec": {
   "display_name": "Python 3",
   "language": "python",
   "name": "python3"
  },
  "language_info": {
   "codemirror_mode": {
    "name": "ipython",
    "version": 3
   },
   "file_extension": ".py",
   "mimetype": "text/x-python",
   "name": "python",
   "nbconvert_exporter": "python",
   "pygments_lexer": "ipython3",
   "version": "3.7.4"
  }
 },
 "nbformat": 4,
 "nbformat_minor": 2
}
